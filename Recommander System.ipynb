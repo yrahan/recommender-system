{
 "cells": [
  {
   "cell_type": "markdown",
   "metadata": {},
   "source": [
    "Ressources :\n",
    "\n",
    "- https://www.kernix.com/article/recommender-system-based-on-natural-language-processing/\n",
    "- https://realpython.com/build-recommendation-engine-collaborative-filtering/\n",
    "- https://www.kaggle.com/ibtesama/getting-started-with-a-movie-recommendation-system\n",
    "- https://www.analyticsvidhya.com/blog/2018/06/comprehensive-guide-recommendation-engine-python/\n",
    "- https://www.datacamp.com/community/tutorials/recommender-systems-python\n",
    "- https://medium.com/code-heroku/building-a-movie-recommendation-engine-in-python-using-scikit-learn-c7489d7cb145\n",
    "- https://stackabuse.com/creating-a-simple-recommender-system-in-python-using-pandas/\n",
    "- https://www.geeksforgeeks.org/python-implementation-of-movie-recommender-system/\n",
    "- https://towardsdatascience.com/how-to-build-a-simple-recommender-system-in-python-375093c3fb7d\n",
    "\n",
    "\n",
    "    "
   ]
  }
 ],
 "metadata": {
  "kernelspec": {
   "display_name": "Python 3",
   "language": "python",
   "name": "python3"
  },
  "language_info": {
   "codemirror_mode": {
    "name": "ipython",
    "version": 3
   },
   "file_extension": ".py",
   "mimetype": "text/x-python",
   "name": "python",
   "nbconvert_exporter": "python",
   "pygments_lexer": "ipython3",
   "version": "3.7.5"
  }
 },
 "nbformat": 4,
 "nbformat_minor": 2
}
